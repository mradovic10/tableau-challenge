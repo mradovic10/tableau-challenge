{
 "cells": [
  {
   "cell_type": "code",
   "execution_count": 1,
   "id": "98820483",
   "metadata": {},
   "outputs": [],
   "source": [
    "import pandas as pd"
   ]
  },
  {
   "cell_type": "code",
   "execution_count": 2,
   "id": "87beaf78",
   "metadata": {},
   "outputs": [],
   "source": [
    "csv = 'data/2019/201912-citibike-tripdata.csv'\n",
    "\n",
    "data = pd.read_csv(csv)"
   ]
  },
  {
   "cell_type": "code",
   "execution_count": 3,
   "id": "26603f29",
   "metadata": {},
   "outputs": [
    {
     "name": "stdout",
     "output_type": "stream",
     "text": [
      "<class 'pandas.core.frame.DataFrame'>\n",
      "RangeIndex: 955210 entries, 0 to 955209\n",
      "Data columns (total 15 columns):\n",
      " #   Column                   Non-Null Count   Dtype  \n",
      "---  ------                   --------------   -----  \n",
      " 0   tripduration             955210 non-null  int64  \n",
      " 1   starttime                955210 non-null  object \n",
      " 2   stoptime                 955210 non-null  object \n",
      " 3   start station id         955210 non-null  int64  \n",
      " 4   start station name       955210 non-null  object \n",
      " 5   start station latitude   955210 non-null  float64\n",
      " 6   start station longitude  955210 non-null  float64\n",
      " 7   end station id           955210 non-null  int64  \n",
      " 8   end station name         955210 non-null  object \n",
      " 9   end station latitude     955210 non-null  float64\n",
      " 10  end station longitude    955210 non-null  float64\n",
      " 11  bikeid                   955210 non-null  int64  \n",
      " 12  usertype                 955210 non-null  object \n",
      " 13  birth year               955210 non-null  int64  \n",
      " 14  gender                   955210 non-null  int64  \n",
      "dtypes: float64(4), int64(6), object(5)\n",
      "memory usage: 109.3+ MB\n"
     ]
    }
   ],
   "source": [
    "data.info()"
   ]
  },
  {
   "cell_type": "code",
   "execution_count": 4,
   "id": "805c94cf",
   "metadata": {},
   "outputs": [],
   "source": [
    "data = data.dropna()"
   ]
  },
  {
   "cell_type": "code",
   "execution_count": 5,
   "id": "2eea9903",
   "metadata": {},
   "outputs": [
    {
     "name": "stdout",
     "output_type": "stream",
     "text": [
      "<class 'pandas.core.frame.DataFrame'>\n",
      "RangeIndex: 955210 entries, 0 to 955209\n",
      "Data columns (total 15 columns):\n",
      " #   Column                   Non-Null Count   Dtype  \n",
      "---  ------                   --------------   -----  \n",
      " 0   tripduration             955210 non-null  int64  \n",
      " 1   starttime                955210 non-null  object \n",
      " 2   stoptime                 955210 non-null  object \n",
      " 3   start station id         955210 non-null  int64  \n",
      " 4   start station name       955210 non-null  object \n",
      " 5   start station latitude   955210 non-null  float64\n",
      " 6   start station longitude  955210 non-null  float64\n",
      " 7   end station id           955210 non-null  int64  \n",
      " 8   end station name         955210 non-null  object \n",
      " 9   end station latitude     955210 non-null  float64\n",
      " 10  end station longitude    955210 non-null  float64\n",
      " 11  bikeid                   955210 non-null  int64  \n",
      " 12  usertype                 955210 non-null  object \n",
      " 13  birth year               955210 non-null  int64  \n",
      " 14  gender                   955210 non-null  int64  \n",
      "dtypes: float64(4), int64(6), object(5)\n",
      "memory usage: 109.3+ MB\n"
     ]
    }
   ],
   "source": [
    "data.info()"
   ]
  },
  {
   "cell_type": "code",
   "execution_count": 6,
   "id": "158cbe99",
   "metadata": {},
   "outputs": [],
   "source": [
    "data.to_csv('data/2019/dec2019.csv', index=False)"
   ]
  },
  {
   "cell_type": "code",
   "execution_count": null,
   "id": "c1246b54",
   "metadata": {},
   "outputs": [],
   "source": []
  }
 ],
 "metadata": {
  "kernelspec": {
   "display_name": "Python 3 (ipykernel)",
   "language": "python",
   "name": "python3"
  },
  "language_info": {
   "codemirror_mode": {
    "name": "ipython",
    "version": 3
   },
   "file_extension": ".py",
   "mimetype": "text/x-python",
   "name": "python",
   "nbconvert_exporter": "python",
   "pygments_lexer": "ipython3",
   "version": "3.9.13"
  }
 },
 "nbformat": 4,
 "nbformat_minor": 5
}
